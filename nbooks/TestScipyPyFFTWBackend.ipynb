{
 "cells": [
  {
   "cell_type": "code",
   "execution_count": 1,
   "metadata": {},
   "outputs": [
    {
     "name": "stdout",
     "output_type": "stream",
     "text": [
      "Time with scipy.fft default backend: 0.135 seconds\n",
      "Time with pyfftw backend installed: 0.202 seconds\n"
     ]
    }
   ],
   "source": [
    "import pyfftw\n",
    "import multiprocessing\n",
    "import scipy.signal\n",
    "import scipy.fft\n",
    "import numpy\n",
    "from timeit import Timer\n",
    "\n",
    "a = pyfftw.empty_aligned((128, 64), dtype='complex128')\n",
    "b = pyfftw.empty_aligned((128, 64), dtype='complex128')\n",
    "\n",
    "a[:] = numpy.random.randn(128, 64) + 1j*numpy.random.randn(128, 64)\n",
    "b[:] = numpy.random.randn(128, 64) + 1j*numpy.random.randn(128, 64)\n",
    "\n",
    "t = Timer(lambda: scipy.signal.fftconvolve(a, b))\n",
    "\n",
    "print('Time with scipy.fft default backend: %1.3f seconds' %\n",
    "      t.timeit(number=100))\n",
    "\n",
    "# Configure PyFFTW to use all cores (the default is single-threaded)\n",
    "pyfftw.config.NUM_THREADS = multiprocessing.cpu_count()\n",
    "\n",
    "# Use the backend pyfftw.interfaces.scipy_fft\n",
    "with scipy.fft.set_backend(pyfftw.interfaces.scipy_fft):\n",
    "     # Turn on the cache for optimum performance\n",
    "     pyfftw.interfaces.cache.enable()\n",
    "\n",
    "      # We cheat a bit by doing the planning first\n",
    "     scipy.signal.fftconvolve(a, b)\n",
    "\n",
    "     print('Time with pyfftw backend installed: %1.3f seconds' %\n",
    "            t.timeit(number=100))"
   ]
  }
 ],
 "metadata": {
  "kernelspec": {
   "display_name": "Python 3.8.12",
   "language": "python",
   "name": "python3"
  },
  "language_info": {
   "codemirror_mode": {
    "name": "ipython",
    "version": 3
   },
   "file_extension": ".py",
   "mimetype": "text/x-python",
   "name": "python",
   "nbconvert_exporter": "python",
   "pygments_lexer": "ipython3",
   "version": "3.8.12"
  },
  "orig_nbformat": 4,
  "vscode": {
   "interpreter": {
    "hash": "dbd6fc45da139ad7884f3a8bb6bb64bd97da57dd9d55b9c12f12f9121519fb2c"
   }
  }
 },
 "nbformat": 4,
 "nbformat_minor": 2
}
