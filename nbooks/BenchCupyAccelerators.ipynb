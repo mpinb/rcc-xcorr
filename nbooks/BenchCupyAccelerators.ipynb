{
 "cells": [
  {
   "cell_type": "code",
   "execution_count": 1,
   "metadata": {},
   "outputs": [
    {
     "name": "stdout",
     "output_type": "stream",
     "text": [
      "my_func             :    CPU:   71.508 us   +/- 2.198 (min:   69.144 / max:   78.393) us     GPU-0:  542.982 us   +/- 6.540 (min:  515.488 / max:  549.184) us\n"
     ]
    },
    {
     "name": "stderr",
     "output_type": "stream",
     "text": [
      "/home/valerio/anaconda3/envs/rcc-xcorr/lib/python3.8/site-packages/cupyx/time.py:115: FutureWarning: cupyx.time.repeat is experimental. The interface can change in the future.\n",
      "  _util.experimental('cupyx.time.repeat')\n"
     ]
    }
   ],
   "source": [
    "import cupy as cp\n",
    "# In CUPY 10  this change\n",
    "# from cupyx.profiler import benchmark\n",
    "from cupyx.time import repeat\n",
    "\n",
    "def my_func(a):\n",
    "    return cp.sqrt(cp.sum(a**2, axis=-1))\n",
    "\n",
    "a = cp.random.random((256, 1024))\n",
    "print (repeat(my_func, (a,), n_repeat=20))"
   ]
  },
  {
   "cell_type": "code",
   "execution_count": 2,
   "metadata": {},
   "outputs": [
    {
     "name": "stdout",
     "output_type": "stream",
     "text": [
      "CUPY_ACCELERATORS=\n",
      "nanargmax           :    CPU:   41.779 us   +/-32.728 (min:   18.691 / max:  167.044) us     GPU-0:  693.719 us   +/-64.531 (min:  659.264 / max: 1202.176) us\n"
     ]
    }
   ],
   "source": [
    "# Use CUB/cuTENSOR backends for reduction and other routines\n",
    "# REF: https://docs.cupy.dev/en/stable/user_guide/performance.html\n",
    "!echo \"CUPY_ACCELERATORS=$CUPY_ACCELERATORS\"\n",
    "print(repeat(cp.nanargmax, (a,), n_repeat=100))"
   ]
  },
  {
   "cell_type": "code",
   "execution_count": 3,
   "metadata": {},
   "outputs": [
    {
     "name": "stdout",
     "output_type": "stream",
     "text": [
      "CUPY_ACCELERATORS=cutensor,cub\n"
     ]
    }
   ],
   "source": [
    "import os\n",
    "os.environ['CUPY_ACCELERATORS'] = 'cutensor,cub'\n",
    "#os.environ['CUPY_ACCELERATORS'] = ''\n",
    "\n",
    "!echo \"CUPY_ACCELERATORS=$CUPY_ACCELERATORS\""
   ]
  },
  {
   "cell_type": "code",
   "execution_count": 4,
   "metadata": {},
   "outputs": [
    {
     "name": "stdout",
     "output_type": "stream",
     "text": [
      "CUPY_ACCELERATORS=cutensor,cub\n",
      "cub_available: True\n",
      "cub_enabled: True\n",
      "my_func             :    CPU:  150.143 us   +/- 5.618 (min:  142.197 / max:  163.899) us     GPU-0:  559.238 us   +/-25.746 (min:  507.808 / max:  580.512) us\n",
      "nanargmax           :    CPU:   27.812 us   +/-14.832 (min:   18.554 / max:   71.842) us     GPU-0:  676.177 us   +/-12.492 (min:  659.360 / max:  717.920) us\n"
     ]
    }
   ],
   "source": [
    "!echo \"CUPY_ACCELERATORS=$CUPY_ACCELERATORS\"\n",
    "print (f'cub_available: {cp.cuda.cub.available}')\n",
    "print (f'cub_enabled: {cp.cuda.cub_enabled}')\n",
    "\n",
    "print (repeat(my_func, (a,), n_repeat=20))\n",
    "print (repeat(cp.nanargmax, (a,), n_repeat=100))"
   ]
  }
 ],
 "metadata": {
  "kernelspec": {
   "display_name": "Python 3.8.12 ('rcc-xcorr')",
   "language": "python",
   "name": "python3"
  },
  "language_info": {
   "codemirror_mode": {
    "name": "ipython",
    "version": 3
   },
   "file_extension": ".py",
   "mimetype": "text/x-python",
   "name": "python",
   "nbconvert_exporter": "python",
   "pygments_lexer": "ipython3",
   "version": "3.8.12"
  },
  "orig_nbformat": 4,
  "vscode": {
   "interpreter": {
    "hash": "dbd6fc45da139ad7884f3a8bb6bb64bd97da57dd9d55b9c12f12f9121519fb2c"
   }
  }
 },
 "nbformat": 4,
 "nbformat_minor": 2
}
