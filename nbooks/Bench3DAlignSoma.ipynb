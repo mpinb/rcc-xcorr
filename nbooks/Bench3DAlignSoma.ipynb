{
 "cells": [
  {
   "cell_type": "code",
   "execution_count": 1,
   "id": "3a832165-a128-4484-8a5c-3db94dd61f7a",
   "metadata": {},
   "outputs": [
    {
     "name": "stdout",
     "output_type": "stream",
     "text": [
      "Sun Feb 13 11:32:39 2022       \n",
      "+-----------------------------------------------------------------------------+\n",
      "| NVIDIA-SMI 470.103.01   Driver Version: 470.103.01   CUDA Version: 11.4     |\n",
      "|-------------------------------+----------------------+----------------------+\n",
      "| GPU  Name        Persistence-M| Bus-Id        Disp.A | Volatile Uncorr. ECC |\n",
      "| Fan  Temp  Perf  Pwr:Usage/Cap|         Memory-Usage | GPU-Util  Compute M. |\n",
      "|                               |                      |               MIG M. |\n",
      "|===============================+======================+======================|\n",
      "|   0  NVIDIA GeForce ...  On   | 00000000:86:00.0 Off |                  N/A |\n",
      "| 27%   37C    P8     1W / 250W |      1MiB / 11019MiB |      0%      Default |\n",
      "|                               |                      |                  N/A |\n",
      "+-------------------------------+----------------------+----------------------+\n",
      "                                                                               \n",
      "+-----------------------------------------------------------------------------+\n",
      "| Processes:                                                                  |\n",
      "|  GPU   GI   CI        PID   Type   Process name                  GPU Memory |\n",
      "|        ID   ID                                                   Usage      |\n",
      "|=============================================================================|\n",
      "|  No running processes found                                                 |\n",
      "+-----------------------------------------------------------------------------+\n"
     ]
    }
   ],
   "source": [
    "!nvidia-smi"
   ]
  },
  {
   "cell_type": "code",
   "execution_count": 2,
   "id": "37092d83-3c2f-4abf-b2ee-7b9b284a4993",
   "metadata": {},
   "outputs": [],
   "source": [
    "# In SOMA hpc cluster\n",
    "!ls /gpfs/soma_fs/scratch/valerio/xcorr_dump_macaque_3d_iorder3517 | wc -l"
   ]
  },
  {
   "cell_type": "code",
   "execution_count": 2,
   "id": "cc784751-6756-4287-ac3e-6d69a6c10e29",
   "metadata": {},
   "outputs": [
    {
     "name": "stdout",
     "output_type": "stream",
     "text": [
      "/axon/u/ovalerio/rcc-xcorr/nbooks\n",
      "5614\n"
     ]
    }
   ],
   "source": [
    "# In AXON hpc cluster\n",
    "!pwd\n",
    "!ls /axon/u/ovalerio/cne/watkins/xcorr_dump_macaque_3d_iorder3517 | wc -l"
   ]
  },
  {
   "cell_type": "code",
   "execution_count": 3,
   "id": "ee4dd013-f85a-44aa-810d-ad31eeafeff7",
   "metadata": {},
   "outputs": [
    {
     "name": "stdout",
     "output_type": "stream",
     "text": [
      "/u/ovalerio\n"
     ]
    }
   ],
   "source": [
    "!export PYTHONPATH=\"$HOME/rcc-xcorr/src\"\n",
    "!echo $HOME"
   ]
  },
  {
   "cell_type": "code",
   "execution_count": 4,
   "id": "ad818d9f-cb8b-4d2f-a980-7471d26c4441",
   "metadata": {},
   "outputs": [
    {
     "name": "stdout",
     "output_type": "stream",
     "text": [
      "/gpfs/soma_fs/home/valerio/rcc-xcorr/nbooks\n",
      "/gpfs/soma_fs/home/valerio/rcc-xcorr\n",
      "/gpfs/soma_fs/home/valerio/rcc-xcorr/src\n"
     ]
    }
   ],
   "source": [
    "import os\n",
    "import sys\n",
    "from pathlib import Path\n",
    "\n",
    "# assuming we are running from within the nbooks directory\n",
    "xcorr_path = Path(os.getcwd()).parent.absolute()\n",
    "xcorr_src_path = os.path.join(xcorr_path, 'src')\n",
    "\n",
    "print(os.getcwd())\n",
    "print(xcorr_path)\n",
    "print(xcorr_src_path)\n",
    "\n",
    "# appending the xcorr_src_path to the path\n",
    "sys.path.append(xcorr_src_path)"
   ]
  },
  {
   "cell_type": "code",
   "execution_count": 5,
   "id": "5fd0de57-607c-4092-823f-9edbacd5177b",
   "metadata": {},
   "outputs": [
    {
     "name": "stdout",
     "output_type": "stream",
     "text": [
      "['/gpfs/soma_fs/home/valerio/rcc-xcorr/nbooks', '/gpfs/soma_fs/home/valerio/anaconda3/envs/rcc-xcorr/lib/python39.zip', '/gpfs/soma_fs/home/valerio/anaconda3/envs/rcc-xcorr/lib/python3.9', '/gpfs/soma_fs/home/valerio/anaconda3/envs/rcc-xcorr/lib/python3.9/lib-dynload', '', '/gpfs/soma_fs/home/valerio/anaconda3/envs/rcc-xcorr/lib/python3.9/site-packages', '/gpfs/soma_fs/home/valerio/anaconda3/envs/rcc-xcorr/lib/python3.9/site-packages/IPython/extensions', '/gpfs/soma_fs/home/valerio/.ipython', '/gpfs/soma_fs/home/valerio/rcc-xcorr/src']\n"
     ]
    }
   ],
   "source": [
    "print(sys.path)"
   ]
  },
  {
   "cell_type": "code",
   "execution_count": 4,
   "id": "d95b3baf-fdf2-47e5-9d60-096cd04d610d",
   "metadata": {},
   "outputs": [
    {
     "name": "stdout",
     "output_type": "stream",
     "text": [
      "GPU 0: Quadro RTX 6000 (UUID: GPU-0481f52e-febd-0381-4b49-2174c31a1418)\n",
      "GPU 1: Quadro RTX 6000 (UUID: GPU-b05d2a60-09ab-4dda-5027-de47b53afea5)\n",
      "GPU 2: Quadro RTX 6000 (UUID: GPU-2bc8c7f8-6a52-0cd0-ff6b-d6b3a3452df4)\n",
      "GPU 3: Quadro RTX 6000 (UUID: GPU-61d4781b-c37e-1ed2-c8a2-cfae722e2bd6)\n"
     ]
    }
   ],
   "source": [
    "!nvidia-smi -L"
   ]
  },
  {
   "cell_type": "code",
   "execution_count": 25,
   "id": "31eaa9ae-f41a-4d9b-9de0-0af6da3e739f",
   "metadata": {},
   "outputs": [
    {
     "name": "stdout",
     "output_type": "stream",
     "text": [
      "\n",
      "==============NVSMI LOG==============\n",
      "\n",
      "Timestamp                                 : Mon Feb  7 13:32:46 2022\n",
      "Driver Version                            : 455.23.05\n",
      "CUDA Version                              : 11.1\n",
      "\n",
      "Attached GPUs                             : 4\n",
      "GPU 00000000:06:00.0\n",
      "    Compute Mode                          : Default\n",
      "\n",
      "GPU 00000000:2F:00.0\n",
      "    Compute Mode                          : Default\n",
      "\n",
      "GPU 00000000:86:00.0\n",
      "    Compute Mode                          : Default\n",
      "\n",
      "GPU 00000000:D8:00.0\n",
      "    Compute Mode                          : Default\n",
      "\n"
     ]
    }
   ],
   "source": [
    "!nvidia-smi -q -d compute"
   ]
  },
  {
   "cell_type": "code",
   "execution_count": 10,
   "id": "a00102fd-0026-49c5-b8fe-7c7b52a2121b",
   "metadata": {},
   "outputs": [
    {
     "name": "stdout",
     "output_type": "stream",
     "text": [
      "Unable to set the compute mode for GPU 00000000:06:00.0: Insufficient Permissions\n",
      "Terminating early due to previous errors.\n",
      "Unable to set the compute mode for GPU 00000000:2F:00.0: Insufficient Permissions\n",
      "Terminating early due to previous errors.\n",
      "Warning: Failed writing log files to directory [/var/log/nvidia-mps]. No logs will be available.\n"
     ]
    }
   ],
   "source": [
    "# Starting MPS control daemon\n",
    "!export CUDA_VISIBLE_DEVICES=0,1 # Select GPU visibility\n",
    "!nvidia-smi -i 0 -c EXCLUSIVE_PROCESS  # Set GPU 0 to exclusive mode\n",
    "!nvidia-smi -i 1 -c EXCLUSIVE_PROCESS  # Set GPU 1 to exclusive mode\n",
    "!nvidia-cuda-mps-control -d # Start the MPS control daemon"
   ]
  },
  {
   "cell_type": "code",
   "execution_count": null,
   "id": "a68be652-d79f-4050-b410-d6abc5bda468",
   "metadata": {},
   "outputs": [
    {
     "name": "stdout",
     "output_type": "stream",
     "text": [
      "[BATCH_XCORR] Total correlations: 2806\n",
      "[BATCH_XCORR] Skipping first 0. Remaining correlations: 2806\n",
      "[BATCH_XCORR] Thread pool size: 4\n",
      "[BATCH_XCORR] Loading 2806 images.\n",
      "100%|███████████████████████████████████████| 2806/2806 [02:26<00:00, 19.09it/s]\n",
      "[BATCH_XCORR] Loading 2806 templates.\n",
      "100%|██████████████████████████████████████| 2806/2806 [00:04<00:00, 671.04it/s]\n",
      "[BATCH_XCORR] Loading completed in 151.17873620986938 seconds\n",
      "[BATCH_XCORR] Current memory usage is 156433.744 MB\n",
      "[BATCH_XCORR] Using GPU: True\n",
      "[BATCH_XCORR] Grouping correlations (2D alignment optimization): False\n",
      "Testing rcc-xcorr batch mode.\n",
      "[BATCH_XCORR] BatchXCorr(num_gpus: 1, num_workers: 4)\n",
      "Using 1 CUDA device(s): [0] \n",
      " 25%|█████████▊                              | 688/2806 [00:45<02:21, 14.97it/s]"
     ]
    }
   ],
   "source": [
    "!python ~/rcc-xcorr/src/test_batch_xcorr_3dalign.py\n",
    "# expose the number of workers\n",
    "# expose the number of GPU(s) to use.\n",
    "# having group correlations as an option. \n",
    "# expose tolerance value with eps as default."
   ]
  },
  {
   "cell_type": "code",
   "execution_count": 24,
   "id": "c665f703-4887-4bee-9de7-ead9bf4e9a9e",
   "metadata": {},
   "outputs": [
    {
     "name": "stdout",
     "output_type": "stream",
     "text": [
      "[BATCH_XCORR] Using GPU: True\n",
      "[BATCH_XCORR] Grouping correlations (2D alignment): False\n",
      "[BATCH_XCORR] Total read images: 170\n",
      "[BATCH_XCORR] Total read templates: 1353\n",
      "Testing rcc-xcorr batch mode.\n",
      "Using 4 CUDA device(s): [0, 1, 2, 3] \n",
      "100%|█████████████████████████████████████████| 925/925 [00:10<00:00, 90.24it/s]\n",
      "[BATCH_XCORR] elapsed time: 10.39495038986206 seconds\n",
      "Coordinates match: True\n",
      "Peak values match: True\n"
     ]
    }
   ],
   "source": [
    "!python ~/rcc-xcorr/src/test_batch_xcorr.py"
   ]
  },
  {
   "cell_type": "code",
   "execution_count": null,
   "id": "654643ea-33db-42b5-a2e8-f16a4c33d871",
   "metadata": {},
   "outputs": [],
   "source": [
    "# Shutting down the MPS control daemon\n",
    "!echo quit | nvidia-cuda-mps-control"
   ]
  }
 ],
 "metadata": {
  "kernelspec": {
   "display_name": "Python 3 (ipykernel)",
   "language": "python",
   "name": "python3"
  },
  "language_info": {
   "codemirror_mode": {
    "name": "ipython",
    "version": 3
   },
   "file_extension": ".py",
   "mimetype": "text/x-python",
   "name": "python",
   "nbconvert_exporter": "python",
   "pygments_lexer": "ipython3",
   "version": "3.9.7"
  }
 },
 "nbformat": 4,
 "nbformat_minor": 5
}
