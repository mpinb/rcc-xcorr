{
 "cells": [
  {
   "cell_type": "code",
   "execution_count": 1,
   "id": "3a832165-a128-4484-8a5c-3db94dd61f7a",
   "metadata": {},
   "outputs": [
    {
     "name": "stdout",
     "output_type": "stream",
     "text": [
      "Mon Feb  7 12:37:10 2022       \n",
      "+-----------------------------------------------------------------------------+\n",
      "| NVIDIA-SMI 455.23.05    Driver Version: 455.23.05    CUDA Version: 11.1     |\n",
      "|-------------------------------+----------------------+----------------------+\n",
      "| GPU  Name        Persistence-M| Bus-Id        Disp.A | Volatile Uncorr. ECC |\n",
      "| Fan  Temp  Perf  Pwr:Usage/Cap|         Memory-Usage | GPU-Util  Compute M. |\n",
      "|                               |                      |               MIG M. |\n",
      "|===============================+======================+======================|\n",
      "|   0  Quadro RTX 6000     Off  | 00000000:06:00.0 Off |                    0 |\n",
      "| N/A   28C    P8    16W / 250W |      0MiB / 22698MiB |      0%      Default |\n",
      "|                               |                      |                  N/A |\n",
      "+-------------------------------+----------------------+----------------------+\n",
      "|   1  Quadro RTX 6000     Off  | 00000000:2F:00.0 Off |                    0 |\n",
      "| N/A   26C    P8    12W / 250W |      0MiB / 22698MiB |      0%      Default |\n",
      "|                               |                      |                  N/A |\n",
      "+-------------------------------+----------------------+----------------------+\n",
      "|   2  Quadro RTX 6000     Off  | 00000000:86:00.0 Off |                    0 |\n",
      "| N/A   27C    P8    12W / 250W |      0MiB / 22698MiB |      0%      Default |\n",
      "|                               |                      |                  N/A |\n",
      "+-------------------------------+----------------------+----------------------+\n",
      "|   3  Quadro RTX 6000     Off  | 00000000:D8:00.0 Off |                    0 |\n",
      "| N/A   26C    P8    12W / 250W |      0MiB / 22698MiB |      0%      Default |\n",
      "|                               |                      |                  N/A |\n",
      "+-------------------------------+----------------------+----------------------+\n",
      "                                                                               \n",
      "+-----------------------------------------------------------------------------+\n",
      "| Processes:                                                                  |\n",
      "|  GPU   GI   CI        PID   Type   Process name                  GPU Memory |\n",
      "|        ID   ID                                                   Usage      |\n",
      "|=============================================================================|\n",
      "|  No running processes found                                                 |\n",
      "+-----------------------------------------------------------------------------+\n"
     ]
    }
   ],
   "source": [
    "!nvidia-smi"
   ]
  },
  {
   "cell_type": "code",
   "execution_count": 2,
   "id": "5252acd3-ed3e-4fb0-83e9-36f7ac238aac",
   "metadata": {},
   "outputs": [
    {
     "name": "stdout",
     "output_type": "stream",
     "text": [
      "5614\n"
     ]
    }
   ],
   "source": [
    "!ls /gpfs/soma_fs/scratch/valerio/xcorr_dump_macaque_3d_iorder3517 | wc -l"
   ]
  },
  {
   "cell_type": "code",
   "execution_count": 3,
   "id": "ee4dd013-f85a-44aa-810d-ad31eeafeff7",
   "metadata": {},
   "outputs": [
    {
     "name": "stdout",
     "output_type": "stream",
     "text": [
      "/gpfs/soma_fs/home/valerio\n"
     ]
    }
   ],
   "source": [
    "!export PYTHONPATH=\"$HOME/rcc-xcorr/src\"\n",
    "!echo $HOME"
   ]
  },
  {
   "cell_type": "code",
   "execution_count": 4,
   "id": "ad818d9f-cb8b-4d2f-a980-7471d26c4441",
   "metadata": {},
   "outputs": [
    {
     "name": "stdout",
     "output_type": "stream",
     "text": [
      "/gpfs/soma_fs/home/valerio/rcc-xcorr/nbooks\n",
      "/gpfs/soma_fs/home/valerio/rcc-xcorr\n",
      "/gpfs/soma_fs/home/valerio/rcc-xcorr/src\n"
     ]
    }
   ],
   "source": [
    "import os\n",
    "import sys\n",
    "from pathlib import Path\n",
    "\n",
    "# assuming we are running from within the nbooks directory\n",
    "xcorr_path = Path(os.getcwd()).parent.absolute()\n",
    "xcorr_src_path = os.path.join(xcorr_path, 'src')\n",
    "\n",
    "print(os.getcwd())\n",
    "print(xcorr_path)\n",
    "print(xcorr_src_path)\n",
    "\n",
    "# appending the xcorr_src_path to the path\n",
    "sys.path.append(xcorr_src_path)"
   ]
  },
  {
   "cell_type": "code",
   "execution_count": 5,
   "id": "5fd0de57-607c-4092-823f-9edbacd5177b",
   "metadata": {},
   "outputs": [
    {
     "name": "stdout",
     "output_type": "stream",
     "text": [
      "['/gpfs/soma_fs/home/valerio/rcc-xcorr/nbooks', '/gpfs/soma_fs/home/valerio/anaconda3/envs/rcc-xcorr/lib/python39.zip', '/gpfs/soma_fs/home/valerio/anaconda3/envs/rcc-xcorr/lib/python3.9', '/gpfs/soma_fs/home/valerio/anaconda3/envs/rcc-xcorr/lib/python3.9/lib-dynload', '', '/gpfs/soma_fs/home/valerio/anaconda3/envs/rcc-xcorr/lib/python3.9/site-packages', '/gpfs/soma_fs/home/valerio/anaconda3/envs/rcc-xcorr/lib/python3.9/site-packages/IPython/extensions', '/gpfs/soma_fs/home/valerio/.ipython', '/gpfs/soma_fs/home/valerio/rcc-xcorr/src']\n"
     ]
    }
   ],
   "source": [
    "print(sys.path)"
   ]
  },
  {
   "cell_type": "code",
   "execution_count": 16,
   "id": "d95b3baf-fdf2-47e5-9d60-096cd04d610d",
   "metadata": {},
   "outputs": [
    {
     "name": "stdout",
     "output_type": "stream",
     "text": [
      "GPU 0: Quadro RTX 6000 (UUID: GPU-82f8c68b-b31d-13e0-3897-3d093cc2cc12)\n",
      "GPU 1: Quadro RTX 6000 (UUID: GPU-7316e7ff-96ed-bbcd-565e-10f40cd66c0e)\n",
      "GPU 2: Quadro RTX 6000 (UUID: GPU-39e617e3-2af5-1ed1-71e9-de481d685f47)\n",
      "GPU 3: Quadro RTX 6000 (UUID: GPU-5f77f727-60d5-50f2-40eb-5ece034609ff)\n"
     ]
    }
   ],
   "source": [
    "!nvidia-smi -L"
   ]
  },
  {
   "cell_type": "code",
   "execution_count": 25,
   "id": "31eaa9ae-f41a-4d9b-9de0-0af6da3e739f",
   "metadata": {},
   "outputs": [
    {
     "name": "stdout",
     "output_type": "stream",
     "text": [
      "\n",
      "==============NVSMI LOG==============\n",
      "\n",
      "Timestamp                                 : Mon Feb  7 13:32:46 2022\n",
      "Driver Version                            : 455.23.05\n",
      "CUDA Version                              : 11.1\n",
      "\n",
      "Attached GPUs                             : 4\n",
      "GPU 00000000:06:00.0\n",
      "    Compute Mode                          : Default\n",
      "\n",
      "GPU 00000000:2F:00.0\n",
      "    Compute Mode                          : Default\n",
      "\n",
      "GPU 00000000:86:00.0\n",
      "    Compute Mode                          : Default\n",
      "\n",
      "GPU 00000000:D8:00.0\n",
      "    Compute Mode                          : Default\n",
      "\n"
     ]
    }
   ],
   "source": [
    "!nvidia-smi -q -d compute"
   ]
  },
  {
   "cell_type": "code",
   "execution_count": 10,
   "id": "a00102fd-0026-49c5-b8fe-7c7b52a2121b",
   "metadata": {},
   "outputs": [
    {
     "name": "stdout",
     "output_type": "stream",
     "text": [
      "Unable to set the compute mode for GPU 00000000:06:00.0: Insufficient Permissions\n",
      "Terminating early due to previous errors.\n",
      "Unable to set the compute mode for GPU 00000000:2F:00.0: Insufficient Permissions\n",
      "Terminating early due to previous errors.\n",
      "Warning: Failed writing log files to directory [/var/log/nvidia-mps]. No logs will be available.\n"
     ]
    }
   ],
   "source": [
    "# Starting MPS control daemon\n",
    "!export CUDA_VISIBLE_DEVICES=0,1 # Select GPU visibility\n",
    "!nvidia-smi -i 0 -c EXCLUSIVE_PROCESS  # Set GPU 0 to exclusive mode\n",
    "!nvidia-smi -i 1 -c EXCLUSIVE_PROCESS  # Set GPU 1 to exclusive mode\n",
    "!nvidia-cuda-mps-control -d # Start the MPS control daemon"
   ]
  },
  {
   "cell_type": "code",
   "execution_count": 20,
   "id": "a68be652-d79f-4050-b410-d6abc5bda468",
   "metadata": {},
   "outputs": [],
   "source": [
    "!python ~/rcc-xcorr/src/test_batch_xcorr_3dalign.py\n",
    "# expose the number of workers\n",
    "# expose the number of GPU(s) to use.\n",
    "# having group correlations as an option. \n",
    "# expose tolerance value with eps as default."
   ]
  },
  {
   "cell_type": "code",
   "execution_count": 24,
   "id": "c665f703-4887-4bee-9de7-ead9bf4e9a9e",
   "metadata": {},
   "outputs": [
    {
     "name": "stdout",
     "output_type": "stream",
     "text": [
      "[BATCH_XCORR] Using GPU: True\n",
      "[BATCH_XCORR] Grouping correlations (2D alignment): False\n",
      "[BATCH_XCORR] Total read images: 170\n",
      "[BATCH_XCORR] Total read templates: 1353\n",
      "Testing rcc-xcorr batch mode.\n",
      "Using 4 CUDA device(s): [0, 1, 2, 3] \n",
      "100%|█████████████████████████████████████████| 925/925 [00:10<00:00, 90.24it/s]\n",
      "[BATCH_XCORR] elapsed time: 10.39495038986206 seconds\n",
      "Coordinates match: True\n",
      "Peak values match: True\n"
     ]
    }
   ],
   "source": [
    "!python ~/rcc-xcorr/src/test_batch_xcorr.py"
   ]
  },
  {
   "cell_type": "code",
   "execution_count": null,
   "id": "654643ea-33db-42b5-a2e8-f16a4c33d871",
   "metadata": {},
   "outputs": [],
   "source": [
    "# Shutting down the MPS control daemon\n",
    "!echo quit | nvidia-cuda-mps-control"
   ]
  }
 ],
 "metadata": {
  "kernelspec": {
   "display_name": "Python 3 (ipykernel)",
   "language": "python",
   "name": "python3"
  },
  "language_info": {
   "codemirror_mode": {
    "name": "ipython",
    "version": 3
   },
   "file_extension": ".py",
   "mimetype": "text/x-python",
   "name": "python",
   "nbconvert_exporter": "python",
   "pygments_lexer": "ipython3",
   "version": "3.9.7"
  }
 },
 "nbformat": 4,
 "nbformat_minor": 5
}
