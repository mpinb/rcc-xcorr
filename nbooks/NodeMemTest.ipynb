{
 "cells": [
  {
   "cell_type": "code",
   "execution_count": 3,
   "id": "7d3a9f91-c751-4f23-8f9b-e949f547bf91",
   "metadata": {},
   "outputs": [
    {
     "name": "stdout",
     "output_type": "stream",
     "text": [
      "ls: cannot access /gpfs/soma_interim/cne/watkins/xcorr_dump_macaque_3d_iorder3517: Permission denied\n"
     ]
    }
   ],
   "source": [
    "!ls /gpfs/soma_interim/cne/watkins/xcorr_dump_macaque_3d_iorder3517"
   ]
  },
  {
   "cell_type": "code",
   "execution_count": 1,
   "id": "d6073db1-f6e9-4d3c-abf3-5a941d48f587",
   "metadata": {},
   "outputs": [
    {
     "name": "stdout",
     "output_type": "stream",
     "text": [
      "5614\n"
     ]
    }
   ],
   "source": [
    "!ls /gpfs/soma_fs/scratch/valerio/xcorr_dump_macaque_3d_iorder3517 | wc -l"
   ]
  },
  {
   "cell_type": "code",
   "execution_count": 2,
   "id": "defa43f1-8740-4a00-a8c8-d9849c72b388",
   "metadata": {},
   "outputs": [],
   "source": [
    "import os\n",
    "import re\n",
    "import tifffile\n",
    "import numpy as np\n",
    "import multiprocessing as mp"
   ]
  },
  {
   "cell_type": "code",
   "execution_count": 3,
   "id": "02763a4c-923c-4b17-9715-fe0cdb0246c9",
   "metadata": {},
   "outputs": [],
   "source": [
    "# return a dictionary of files matching filename regex pattern\n",
    "# the regex also defines the key to use for the dictionary\n",
    "# The filename_regex has the form: r'FILE_PREFIX(FILE_KEY)\\.EXT'\n",
    "# Example:  r'image([0-9]+)\\.tif'\n",
    "def search_files(file_path, filename_regex):\n",
    "    files = {}\n",
    "    for f in os.listdir(file_path):\n",
    "        file_match = re.match(filename_regex, f)\n",
    "        if file_match:\n",
    "            file_id = int(file_match.group(1))\n",
    "            file_name = os.path.join(file_path, f)\n",
    "            files[file_id] = file_name\n",
    "    return files"
   ]
  },
  {
   "cell_type": "code",
   "execution_count": 3,
   "id": "af99f0c2-b611-4795-8c95-15884dd5eb1f",
   "metadata": {},
   "outputs": [],
   "source": [
    "def read_files_parallel(files, num_procs=mp.cpu_count()):\n",
    "    with mp.Pool(num_procs) as pool:\n",
    "        return {file_id:file_data for file_id, file_data in\n",
    "                zip(files.keys(),\n",
    "                    pool.map(tifffile.imread, files.values()))}"
   ]
  },
  {
   "cell_type": "code",
   "execution_count": 8,
   "id": "fefdc1f6-5eae-4c95-8447-718f7e2d67a5",
   "metadata": {},
   "outputs": [],
   "source": [
    "import tqdm\n",
    "import concurrent.futures as cf\n",
    "from multiprocessing.pool import ThreadPool\n",
    "\n",
    "def read_files_parallel_thread(files, num_procs=mp.cpu_count()):\n",
    "    #with cf.ThreadPoolExecutor(num_procs) as pool:\n",
    "    with ThreadPool(num_procs) as pool:\n",
    "        return {file_id:file_data for file_id, file_data in\n",
    "                zip(files.keys(),\n",
    "                    tqdm.tqdm(pool.imap(tifffile.imread, files.values()), total=len(files)))}"
   ]
  },
  {
   "cell_type": "code",
   "execution_count": 9,
   "id": "31618265-3e4d-45b5-86d6-5758d8bd3a6d",
   "metadata": {},
   "outputs": [
    {
     "name": "stdout",
     "output_type": "stream",
     "text": [
      "[BATCH_XCORR] Reading files using process pool of size: 96\n"
     ]
    },
    {
     "name": "stderr",
     "output_type": "stream",
     "text": [
      "100%|██████████████████████████████████████▉| 2805/2806 [00:43<00:00, 64.23it/s]\n",
      "100%|█████████████████████████████████████▉| 2805/2806 [00:07<00:00, 379.75it/s]"
     ]
    },
    {
     "name": "stdout",
     "output_type": "stream",
     "text": [
      "[BATCH_XCORR] Elapsed time reading files: 51.15959858894348 seconds\n",
      "[BATCH_XCORR] Current memory usage is 156776.424 MB\n"
     ]
    },
    {
     "name": "stderr",
     "output_type": "stream",
     "text": [
      "\n"
     ]
    }
   ],
   "source": [
    "import resource\n",
    "import time\n",
    "import tifffile\n",
    "import dill\n",
    "import os\n",
    "import re\n",
    "import numpy as np\n",
    "\n",
    "#from rcc import BatchXCorr\n",
    "#import xcorr_util as xcu\n",
    "\n",
    "export_xcorr_comps_path = '/gpfs/soma_fs/scratch/valerio/xcorr_dump_macaque_3d_iorder3517'\n",
    "#export_xcorr_comps_path = '/gpfs/soma_local/cne/watkins/xcorr_dump_macaque_3d_iorder3517'\n",
    "plot_input_data = False\n",
    "plot_statistics = False\n",
    "normalize_inputs = False\n",
    "group_correlations = False\n",
    "use_gpu = True\n",
    "\n",
    "fn = os.path.join(export_xcorr_comps_path, 'comps.dill')\n",
    "with open(fn, 'rb') as f: d = dill.load(f)\n",
    "\n",
    "correlations = d['comps']\n",
    "Cmax_test = d['Cmax']\n",
    "Camax_test = d['Camax']\n",
    "\n",
    "# Gathering the file names of images and templates\n",
    "image_files = search_files(export_xcorr_comps_path, r'image([0-9]+)\\.tif')\n",
    "templ_files = search_files(export_xcorr_comps_path, r'templ([0-9]+)\\.tif')\n",
    "\n",
    "# NOTE: Using dictionaries for testing. The final version will support a numpy array\n",
    "# images = np.empty(NUM_IMAGES)\n",
    "print(f'[BATCH_XCORR] Reading files using process pool of size: {mp.cpu_count()}')\n",
    "start_time = time.time()\n",
    "images = read_files_parallel_thread(image_files)\n",
    "templates = read_files_parallel_thread(templ_files)\n",
    "stop_time = time.time()\n",
    "print(f'[BATCH_XCORR] Elapsed time reading files: {stop_time - start_time} seconds')\n",
    "\n",
    "# Sampling memory use. (maximum resident set size in kilobytes)\n",
    "usage = resource.getrusage(resource.RUSAGE_SELF).ru_maxrss\n",
    "print(f'[BATCH_XCORR] Current memory usage is {usage / 10 ** 3} MB')\n"
   ]
  }
 ],
 "metadata": {
  "kernelspec": {
   "display_name": "Python 3 (ipykernel)",
   "language": "python",
   "name": "python3"
  },
  "language_info": {
   "codemirror_mode": {
    "name": "ipython",
    "version": 3
   },
   "file_extension": ".py",
   "mimetype": "text/x-python",
   "name": "python",
   "nbconvert_exporter": "python",
   "pygments_lexer": "ipython3",
   "version": "3.9.7"
  }
 },
 "nbformat": 4,
 "nbformat_minor": 5
}
