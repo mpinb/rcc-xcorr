{
 "cells": [
  {
   "cell_type": "code",
   "execution_count": 3,
   "id": "8e4333c6-3f67-456e-bb87-0728ba7487f9",
   "metadata": {},
   "outputs": [
    {
     "name": "stdout",
     "output_type": "stream",
     "text": [
      "Bench3DAlignSoma.ipynb\t NodeMemTest.ipynb\t       XCorrBatchExample.ipynb\n",
      "BenchXCorr3DAlign.ipynb  TestCudaVisibleDevices.ipynb\n"
     ]
    }
   ],
   "source": [
    "!ls"
   ]
  },
  {
   "cell_type": "code",
   "execution_count": null,
   "id": "29c6a7dd-42c7-4b79-ac85-82ecf42250f5",
   "metadata": {},
   "outputs": [],
   "source": []
  },
  {
   "cell_type": "code",
   "execution_count": null,
   "id": "304ce46a-1571-455c-ad3c-264c78d5c5a1",
   "metadata": {},
   "outputs": [
    {
     "name": "stdout",
     "output_type": "stream",
     "text": [
      "[BATCH_XCORR] export_xcorr_comps_path: /gpfs/soma_fs/scratch/valerio/xcorr_dump_macaque_w2_s1513_mfov29\n",
      "[BATCH_XCORR] Using GPU: True\n",
      "[BATCH_XCORR] Grouping correlations (2D alignment): True\n",
      "[BATCH_XCORR] Total read images: 218\n",
      "[BATCH_XCORR] Total read templates: 1793\n",
      "Testing rcc-xcorr batch mode.\n",
      "repeat 1 of 10\n",
      "Using CUDA_VISIBLE_DEVICES: 3\n",
      "[PID: 130343] Using 1 CUDA device(s): [3] \n",
      "[PID: 130343] GPU: 3, Available memory: 22698.0 MB\n",
      "100%|█████████████████████████████████████████| 163/163 [00:04<00:00, 32.90it/s]\n",
      "[PID: 130343] 163 grouped correlations completed. \n",
      "[BATCH_XCORR] elapsed time: 5.067605018615723 seconds\n",
      "Coordinates match: True\n",
      "Peak values match: True\n",
      "repeat 2 of 10\n",
      "Using CUDA_VISIBLE_DEVICES: 1\n",
      "[PID: 130343] Using 1 CUDA device(s): [1] \n",
      "[PID: 130343] GPU: 1, Available memory: 22695.0 MB\n",
      " 43%|██████████████████                        | 70/163 [00:02<00:02, 37.53it/s]"
     ]
    }
   ],
   "source": [
    "!python ~/rcc-xcorr/rcc_xcorr/test_batch_xcorr_mem.py"
   ]
  }
 ],
 "metadata": {
  "kernelspec": {
   "display_name": "Python 3 (ipykernel)",
   "language": "python",
   "name": "python3"
  },
  "language_info": {
   "codemirror_mode": {
    "name": "ipython",
    "version": 3
   },
   "file_extension": ".py",
   "mimetype": "text/x-python",
   "name": "python",
   "nbconvert_exporter": "python",
   "pygments_lexer": "ipython3",
   "version": "3.9.7"
  }
 },
 "nbformat": 4,
 "nbformat_minor": 5
}
