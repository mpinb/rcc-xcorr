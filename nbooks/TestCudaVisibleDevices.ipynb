{
 "cells": [
  {
   "cell_type": "code",
   "execution_count": 1,
   "id": "8e4333c6-3f67-456e-bb87-0728ba7487f9",
   "metadata": {},
   "outputs": [
    {
     "name": "stdout",
     "output_type": "stream",
     "text": [
      "Bench3DAlignSoma.ipynb\t NodeMemTest.ipynb\t       XCorrBatchExample.ipynb\n",
      "BenchXCorr3DAlign.ipynb  TestCudaVisibleDevices.ipynb\n"
     ]
    }
   ],
   "source": [
    "!ls"
   ]
  },
  {
   "cell_type": "code",
   "execution_count": null,
   "id": "29c6a7dd-42c7-4b79-ac85-82ecf42250f5",
   "metadata": {},
   "outputs": [],
   "source": []
  },
  {
   "cell_type": "code",
   "execution_count": 24,
   "id": "304ce46a-1571-455c-ad3c-264c78d5c5a1",
   "metadata": {},
   "outputs": [
    {
     "name": "stdout",
     "output_type": "stream",
     "text": [
      "[BATCH_XCORR] export_xcorr_comps_path: /gpfs/soma_fs/scratch/valerio/xcorr_dump_macaque_w2_s1513_mfov29\n",
      "[BATCH_XCORR] Using GPU: True\n",
      "[BATCH_XCORR] Grouping correlations (2D alignment): True\n",
      "[BATCH_XCORR] Total read images: 218\n",
      "[BATCH_XCORR] Total read templates: 1793\n",
      "Testing rcc-xcorr batch mode.\n",
      "repeat 1 of 10\n",
      "Using CUDA_VISIBLE_DEVICES: 3\n",
      "[PID: 129132] Using 1 CUDA device(s): [3] \n",
      "[PID: 129132] GPU: 3, Available memory: 22695.0 MB\n",
      "100%|█████████████████████████████████████████| 168/168 [00:05<00:00, 31.56it/s]\n",
      "[PID: 129132] 168 grouped correlations completed. \n",
      "[BATCH_XCORR] elapsed time: 5.573801755905151 seconds\n",
      "Coordinates match: True\n",
      "Peak values match: True\n",
      "repeat 2 of 10\n",
      "Using CUDA_VISIBLE_DEVICES: 2\n",
      "[PID: 129132] Using 1 CUDA device(s): [2] \n",
      "[PID: 129132] GPU: 2, Available memory: 22695.0 MB\n",
      "100%|█████████████████████████████████████████| 168/168 [00:05<00:00, 31.77it/s]\n",
      "[PID: 129132] 168 grouped correlations completed. \n",
      "[BATCH_XCORR] elapsed time: 11.004004001617432 seconds\n",
      "Coordinates match: True\n",
      "Peak values match: True\n",
      "repeat 3 of 10\n",
      "Using CUDA_VISIBLE_DEVICES: 2\n",
      "[PID: 129132] Using 1 CUDA device(s): [2] \n",
      "[PID: 129132] GPU: 2, Available memory: 22500.0 MB\n",
      "100%|█████████████████████████████████████████| 168/168 [00:04<00:00, 33.88it/s]\n",
      "[PID: 129132] 168 grouped correlations completed. \n",
      "[BATCH_XCORR] elapsed time: 16.100587606430054 seconds\n",
      "Coordinates match: True\n",
      "Peak values match: True\n",
      "repeat 4 of 10\n",
      "Using CUDA_VISIBLE_DEVICES: 1\n",
      "[PID: 129132] Using 1 CUDA device(s): [1] \n",
      "[PID: 129132] GPU: 1, Available memory: 22695.0 MB\n",
      "100%|█████████████████████████████████████████| 168/168 [00:05<00:00, 32.06it/s]\n",
      "[PID: 129132] 168 grouped correlations completed. \n",
      "[BATCH_XCORR] elapsed time: 21.485750198364258 seconds\n",
      "Coordinates match: True\n",
      "Peak values match: True\n",
      "repeat 5 of 10\n",
      "Using CUDA_VISIBLE_DEVICES: 3\n",
      "[PID: 129132] Using 1 CUDA device(s): [3] \n",
      "[PID: 129132] GPU: 3, Available memory: 22500.0 MB\n",
      "100%|█████████████████████████████████████████| 168/168 [00:05<00:00, 32.99it/s]\n",
      "[PID: 129132] 168 grouped correlations completed. \n",
      "[BATCH_XCORR] elapsed time: 26.75972318649292 seconds\n",
      "Coordinates match: True\n",
      "Peak values match: True\n",
      "repeat 6 of 10\n",
      "Using CUDA_VISIBLE_DEVICES: 1\n",
      "[PID: 129132] Using 1 CUDA device(s): [1] \n",
      "[PID: 129132] GPU: 1, Available memory: 22500.0 MB\n",
      "100%|█████████████████████████████████████████| 168/168 [00:04<00:00, 34.94it/s]\n",
      "[PID: 129132] 168 grouped correlations completed. \n",
      "[BATCH_XCORR] elapsed time: 31.7095627784729 seconds\n",
      "Coordinates match: True\n",
      "Peak values match: True\n",
      "repeat 7 of 10\n",
      "Using CUDA_VISIBLE_DEVICES: 1\n",
      "[PID: 129132] Using 1 CUDA device(s): [1] \n",
      "[PID: 129132] GPU: 1, Available memory: 22500.0 MB\n",
      "100%|█████████████████████████████████████████| 168/168 [00:04<00:00, 33.82it/s]\n",
      "[PID: 129132] 168 grouped correlations completed. \n",
      "[BATCH_XCORR] elapsed time: 36.81604051589966 seconds\n",
      "Coordinates match: True\n",
      "Peak values match: True\n",
      "repeat 8 of 10\n",
      "Using CUDA_VISIBLE_DEVICES: 1\n",
      "[PID: 129132] Using 1 CUDA device(s): [1] \n",
      "[PID: 129132] GPU: 1, Available memory: 22500.0 MB\n",
      "100%|█████████████████████████████████████████| 168/168 [00:04<00:00, 35.06it/s]\n",
      "[PID: 129132] 168 grouped correlations completed. \n",
      "[BATCH_XCORR] elapsed time: 41.74529957771301 seconds\n",
      "Coordinates match: True\n",
      "Peak values match: True\n",
      "repeat 9 of 10\n",
      "Using CUDA_VISIBLE_DEVICES: 2\n",
      "[PID: 129132] Using 1 CUDA device(s): [2] \n",
      "[PID: 129132] GPU: 2, Available memory: 22500.0 MB\n",
      "100%|█████████████████████████████████████████| 168/168 [00:05<00:00, 33.04it/s]\n",
      "[PID: 129132] 168 grouped correlations completed. \n",
      "[BATCH_XCORR] elapsed time: 46.97165632247925 seconds\n",
      "Coordinates match: True\n",
      "Peak values match: True\n",
      "repeat 10 of 10\n",
      "Using CUDA_VISIBLE_DEVICES: 0\n",
      "[PID: 129132] Using 1 CUDA device(s): [0] \n",
      "[PID: 129132] GPU: 0, Available memory: 22695.0 MB\n",
      "100%|█████████████████████████████████████████| 168/168 [00:05<00:00, 31.33it/s]\n",
      "[PID: 129132] 168 grouped correlations completed. \n",
      "[BATCH_XCORR] elapsed time: 52.48249554634094 seconds\n",
      "Coordinates match: True\n",
      "Peak values match: True\n"
     ]
    }
   ],
   "source": [
    "!python ~/rcc-xcorr/rcc_xcorr/test_batch_xcorr_mem.py"
   ]
  }
 ],
 "metadata": {
  "kernelspec": {
   "display_name": "rcc-xcorr",
   "language": "python",
   "name": "rcc-xcorr"
  },
  "language_info": {
   "codemirror_mode": {
    "name": "ipython",
    "version": 3
   },
   "file_extension": ".py",
   "mimetype": "text/x-python",
   "name": "python",
   "nbconvert_exporter": "python",
   "pygments_lexer": "ipython3",
   "version": "3.9.7"
  }
 },
 "nbformat": 4,
 "nbformat_minor": 5
}
